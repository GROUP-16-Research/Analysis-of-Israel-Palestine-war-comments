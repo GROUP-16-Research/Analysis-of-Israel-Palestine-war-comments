{
 "cells": [
  {
   "cell_type": "code",
   "execution_count": 1,
   "id": "62ca7b9a-63b8-4bfe-a5d3-1e42c47e8f3a",
   "metadata": {},
   "outputs": [],
   "source": [
    "import numpy as np \n",
    "import pandas as pd \n",
    "import matplotlib.pyplot as plt"
   ]
  },
  {
   "cell_type": "code",
   "execution_count": 2,
   "id": "5258ba74-a31b-433f-9d60-4a9488893688",
   "metadata": {},
   "outputs": [],
   "source": [
    "data = pd.read_csv('../Artifacts/reddit comments.csv')"
   ]
  },
  {
   "cell_type": "code",
   "execution_count": 3,
   "id": "af85f870-41fe-43db-9959-4a830ce029c5",
   "metadata": {},
   "outputs": [
    {
     "data": {
      "text/html": [
       "<div>\n",
       "<style scoped>\n",
       "    .dataframe tbody tr th:only-of-type {\n",
       "        vertical-align: middle;\n",
       "    }\n",
       "\n",
       "    .dataframe tbody tr th {\n",
       "        vertical-align: top;\n",
       "    }\n",
       "\n",
       "    .dataframe thead th {\n",
       "        text-align: right;\n",
       "    }\n",
       "</style>\n",
       "<table border=\"1\" class=\"dataframe\">\n",
       "  <thead>\n",
       "    <tr style=\"text-align: right;\">\n",
       "      <th></th>\n",
       "      <th>comment_id</th>\n",
       "      <th>self_text</th>\n",
       "      <th>label</th>\n",
       "    </tr>\n",
       "  </thead>\n",
       "  <tbody>\n",
       "    <tr>\n",
       "      <th>0</th>\n",
       "      <td>k70vrzb</td>\n",
       "      <td>Lol what kind of busted translator device you ...</td>\n",
       "      <td>0.0</td>\n",
       "    </tr>\n",
       "    <tr>\n",
       "      <th>1</th>\n",
       "      <td>k70vk4r</td>\n",
       "      <td>Translation:\\n\\nAmen. Kill jews and continue g...</td>\n",
       "      <td>0.0</td>\n",
       "    </tr>\n",
       "    <tr>\n",
       "      <th>2</th>\n",
       "      <td>k70vhew</td>\n",
       "      <td>Friendly fact reminder: Israel has been steali...</td>\n",
       "      <td>0.0</td>\n",
       "    </tr>\n",
       "    <tr>\n",
       "      <th>3</th>\n",
       "      <td>k70ve4h</td>\n",
       "      <td>Well, i would never support Hamas, but there a...</td>\n",
       "      <td>0.0</td>\n",
       "    </tr>\n",
       "    <tr>\n",
       "      <th>4</th>\n",
       "      <td>k70vaxh</td>\n",
       "      <td>There is absolutely evidence of Hamas taking C...</td>\n",
       "      <td>1.0</td>\n",
       "    </tr>\n",
       "  </tbody>\n",
       "</table>\n",
       "</div>"
      ],
      "text/plain": [
       "  comment_id                                          self_text  label\n",
       "0    k70vrzb  Lol what kind of busted translator device you ...    0.0\n",
       "1    k70vk4r  Translation:\\n\\nAmen. Kill jews and continue g...    0.0\n",
       "2    k70vhew  Friendly fact reminder: Israel has been steali...    0.0\n",
       "3    k70ve4h  Well, i would never support Hamas, but there a...    0.0\n",
       "4    k70vaxh  There is absolutely evidence of Hamas taking C...    1.0"
      ]
     },
     "execution_count": 3,
     "metadata": {},
     "output_type": "execute_result"
    }
   ],
   "source": [
    "data.head()"
   ]
  },
  {
   "cell_type": "markdown",
   "id": "0122b53f-a104-459a-91fa-c271f8fb2cdc",
   "metadata": {},
   "source": [
    "## Data preproccesing"
   ]
  },
  {
   "cell_type": "code",
   "execution_count": 4,
   "id": "e55c4c62-cc1f-4497-a21f-8505b8c730b8",
   "metadata": {},
   "outputs": [
    {
     "data": {
      "text/plain": [
       "(10001, 3)"
      ]
     },
     "execution_count": 4,
     "metadata": {},
     "output_type": "execute_result"
    }
   ],
   "source": [
    "data.shape"
   ]
  },
  {
   "cell_type": "code",
   "execution_count": 5,
   "id": "fd6166f6-eb87-4d59-83ac-01f5b882ab59",
   "metadata": {},
   "outputs": [
    {
     "data": {
      "text/plain": [
       "np.int64(0)"
      ]
     },
     "execution_count": 5,
     "metadata": {},
     "output_type": "execute_result"
    }
   ],
   "source": [
    "data.duplicated().sum()"
   ]
  },
  {
   "cell_type": "code",
   "execution_count": 6,
   "id": "570e668d-68b7-4157-b6f4-c3fe70ded594",
   "metadata": {},
   "outputs": [
    {
     "data": {
      "text/plain": [
       "comment_id    0\n",
       "self_text     0\n",
       "label         2\n",
       "dtype: int64"
      ]
     },
     "execution_count": 6,
     "metadata": {},
     "output_type": "execute_result"
    }
   ],
   "source": [
    "data.isnull().sum()"
   ]
  },
  {
   "cell_type": "markdown",
   "id": "2e31b4bb-edc7-405a-92c9-e948aad0fd4a",
   "metadata": {},
   "source": [
    "### Text Preprocess "
   ]
  },
  {
   "cell_type": "code",
   "execution_count": 7,
   "id": "516a15d2-a51e-4daa-a446-ac8aa0176715",
   "metadata": {},
   "outputs": [],
   "source": [
    "import re\n",
    "import string"
   ]
  },
  {
   "cell_type": "markdown",
   "id": "41f42282-3f8a-4eff-a454-85745643a669",
   "metadata": {},
   "source": [
    "#### Convert uppercase into lowercase"
   ]
  },
  {
   "cell_type": "code",
   "execution_count": 8,
   "id": "3ca03e2e-fe21-4afa-be4d-cd39b4faa312",
   "metadata": {},
   "outputs": [],
   "source": [
    "data[\"self_text\"] = data[\"self_text\"].apply(lambda x: \" \".join(x.lower() for x in x.split()))"
   ]
  },
  {
   "cell_type": "code",
   "execution_count": 9,
   "id": "6debe3e2-0f33-4784-b788-3ea2893e007e",
   "metadata": {},
   "outputs": [
    {
     "data": {
      "text/plain": [
       "0    lol what kind of busted translator device you ...\n",
       "1    translation: amen. kill jews and continue gaza...\n",
       "2    friendly fact reminder: israel has been steali...\n",
       "3    well, i would never support hamas, but there a...\n",
       "4    there is absolutely evidence of hamas taking c...\n",
       "Name: self_text, dtype: object"
      ]
     },
     "execution_count": 9,
     "metadata": {},
     "output_type": "execute_result"
    }
   ],
   "source": [
    "data[\"self_text\"].head(5)"
   ]
  },
  {
   "cell_type": "markdown",
   "id": "8968e6cb-2996-4565-8bdd-17c328a95bb1",
   "metadata": {},
   "source": [
    "#### Remove links"
   ]
  },
  {
   "cell_type": "code",
   "execution_count": 10,
   "id": "9cb68060-e3b0-44d3-afc8-c7b6695a5e22",
   "metadata": {},
   "outputs": [],
   "source": [
    "data[\"self_text\"] = data['self_text'].apply(lambda x: \" \".join(re.sub(r'^https?:\\/\\/.*[\\r\\n]*', '', x, flags=re.MULTILINE) for x in x.split()))"
   ]
  },
  {
   "cell_type": "markdown",
   "id": "a0bc5264-d05b-4be6-ba01-7519a685e0a9",
   "metadata": {},
   "source": [
    "#### Remove punctuation "
   ]
  },
  {
   "cell_type": "code",
   "execution_count": 11,
   "id": "05d7b59a-90e3-4bc2-ac5e-1f52420ba0e5",
   "metadata": {},
   "outputs": [
    {
     "data": {
      "text/plain": [
       "'!\"#$%&\\'()*+,-./:;<=>?@[\\\\]^_`{|}~'"
      ]
     },
     "execution_count": 11,
     "metadata": {},
     "output_type": "execute_result"
    }
   ],
   "source": [
    "string.punctuation"
   ]
  },
  {
   "cell_type": "code",
   "execution_count": 12,
   "id": "6be41e36-82b7-4c38-a521-0c0af1522f69",
   "metadata": {},
   "outputs": [],
   "source": [
    "def remove_punctuations(text):\n",
    "    for punctuation in string.punctuation:\n",
    "        text = text.replace(punctuation, '')\n",
    "    return text\n",
    "\n",
    "data[\"self_text\"] = data[\"self_text\"].apply(remove_punctuations)"
   ]
  },
  {
   "cell_type": "code",
   "execution_count": 13,
   "id": "cc17f3f6-71fc-401e-b65b-a668c1fa0607",
   "metadata": {},
   "outputs": [
    {
     "data": {
      "text/plain": [
       "0    lol what kind of busted translator device you ...\n",
       "1    translation amen kill jews and continue gazan ...\n",
       "2    friendly fact reminder israel has been stealin...\n",
       "3    well i would never support hamas but there act...\n",
       "4    there is absolutely evidence of hamas taking c...\n",
       "5    do you have the avtual link to the new york ti...\n",
       "6    i didnt deny anything you said i said israel d...\n",
       "7    gtyes exactly hamas attacked not the 1 million...\n",
       "8    firstly even in the best scenario you are conf...\n",
       "9    oh i guess since hamas is putting the children...\n",
       "Name: self_text, dtype: object"
      ]
     },
     "execution_count": 13,
     "metadata": {},
     "output_type": "execute_result"
    }
   ],
   "source": [
    "data[\"self_text\"].head(10)"
   ]
  },
  {
   "cell_type": "markdown",
   "id": "1322c92b-e63e-44d4-ab27-2461aa58684a",
   "metadata": {},
   "source": [
    "#### Remove numbers"
   ]
  },
  {
   "cell_type": "code",
   "execution_count": 14,
   "id": "1bfb2ae9-72c9-4506-a55b-03310306d794",
   "metadata": {},
   "outputs": [],
   "source": [
    "data[\"self_text\"] = data['self_text'].str.replace(r'\\d+', '', regex=True)"
   ]
  },
  {
   "cell_type": "markdown",
   "id": "6c2cbaec-fb3d-4b39-bc7a-e91219d363db",
   "metadata": {},
   "source": [
    "#### Remove stop words"
   ]
  },
  {
   "cell_type": "code",
   "execution_count": 15,
   "id": "80861f95-07e7-41c8-8e02-7feec3de4355",
   "metadata": {},
   "outputs": [
    {
     "name": "stdout",
     "output_type": "stream",
     "text": [
      "Requirement already satisfied: nltk in f:\\projects\\4th yr\\colloab\\analysis-of-israel-palestine-war-comments\\env\\lib\\site-packages (3.9.1)\n",
      "Requirement already satisfied: click in f:\\projects\\4th yr\\colloab\\analysis-of-israel-palestine-war-comments\\env\\lib\\site-packages (from nltk) (8.1.8)\n",
      "Requirement already satisfied: joblib in f:\\projects\\4th yr\\colloab\\analysis-of-israel-palestine-war-comments\\env\\lib\\site-packages (from nltk) (1.4.2)\n",
      "Requirement already satisfied: regex>=2021.8.3 in f:\\projects\\4th yr\\colloab\\analysis-of-israel-palestine-war-comments\\env\\lib\\site-packages (from nltk) (2024.11.6)\n",
      "Requirement already satisfied: tqdm in f:\\projects\\4th yr\\colloab\\analysis-of-israel-palestine-war-comments\\env\\lib\\site-packages (from nltk) (4.67.1)\n",
      "Requirement already satisfied: colorama in f:\\projects\\4th yr\\colloab\\analysis-of-israel-palestine-war-comments\\env\\lib\\site-packages (from click->nltk) (0.4.6)\n",
      "Note: you may need to restart the kernel to use updated packages.\n"
     ]
    }
   ],
   "source": [
    "pip install nltk"
   ]
  },
  {
   "cell_type": "code",
   "execution_count": 16,
   "id": "1ba02cef-7aa2-44db-8f9b-562a646b5b78",
   "metadata": {},
   "outputs": [],
   "source": [
    "import nltk"
   ]
  },
  {
   "cell_type": "code",
   "execution_count": 17,
   "id": "7cb7fcde-24b5-4794-ab26-849e37767dad",
   "metadata": {},
   "outputs": [
    {
     "name": "stderr",
     "output_type": "stream",
     "text": [
      "[nltk_data] Downloading package stopwords to ../static/model...\n",
      "[nltk_data]   Package stopwords is already up-to-date!\n"
     ]
    },
    {
     "data": {
      "text/plain": [
       "True"
      ]
     },
     "execution_count": 17,
     "metadata": {},
     "output_type": "execute_result"
    }
   ],
   "source": [
    "nltk.download('stopwords', download_dir='../static/model')"
   ]
  },
  {
   "cell_type": "code",
   "execution_count": 18,
   "id": "db784cc5-d55d-4204-8170-1211544259d6",
   "metadata": {},
   "outputs": [],
   "source": [
    "with open('../static/model/corpora/stopwords/english', 'r') as file:\n",
    "    sw = file.read().splitlines()"
   ]
  },
  {
   "cell_type": "code",
   "execution_count": 19,
   "id": "48a3ddb1-c299-4bda-b82a-eea383246aa5",
   "metadata": {},
   "outputs": [
    {
     "data": {
      "text/plain": [
       "['i',\n",
       " 'me',\n",
       " 'my',\n",
       " 'myself',\n",
       " 'we',\n",
       " 'our',\n",
       " 'ours',\n",
       " 'ourselves',\n",
       " 'you',\n",
       " \"you're\",\n",
       " \"you've\",\n",
       " \"you'll\",\n",
       " \"you'd\",\n",
       " 'your',\n",
       " 'yours',\n",
       " 'yourself',\n",
       " 'yourselves',\n",
       " 'he',\n",
       " 'him',\n",
       " 'his',\n",
       " 'himself',\n",
       " 'she',\n",
       " \"she's\",\n",
       " 'her',\n",
       " 'hers',\n",
       " 'herself',\n",
       " 'it',\n",
       " \"it's\",\n",
       " 'its',\n",
       " 'itself',\n",
       " 'they',\n",
       " 'them',\n",
       " 'their',\n",
       " 'theirs',\n",
       " 'themselves',\n",
       " 'what',\n",
       " 'which',\n",
       " 'who',\n",
       " 'whom',\n",
       " 'this',\n",
       " 'that',\n",
       " \"that'll\",\n",
       " 'these',\n",
       " 'those',\n",
       " 'am',\n",
       " 'is',\n",
       " 'are',\n",
       " 'was',\n",
       " 'were',\n",
       " 'be',\n",
       " 'been',\n",
       " 'being',\n",
       " 'have',\n",
       " 'has',\n",
       " 'had',\n",
       " 'having',\n",
       " 'do',\n",
       " 'does',\n",
       " 'did',\n",
       " 'doing',\n",
       " 'a',\n",
       " 'an',\n",
       " 'the',\n",
       " 'and',\n",
       " 'but',\n",
       " 'if',\n",
       " 'or',\n",
       " 'because',\n",
       " 'as',\n",
       " 'until',\n",
       " 'while',\n",
       " 'of',\n",
       " 'at',\n",
       " 'by',\n",
       " 'for',\n",
       " 'with',\n",
       " 'about',\n",
       " 'against',\n",
       " 'between',\n",
       " 'into',\n",
       " 'through',\n",
       " 'during',\n",
       " 'before',\n",
       " 'after',\n",
       " 'above',\n",
       " 'below',\n",
       " 'to',\n",
       " 'from',\n",
       " 'up',\n",
       " 'down',\n",
       " 'in',\n",
       " 'out',\n",
       " 'on',\n",
       " 'off',\n",
       " 'over',\n",
       " 'under',\n",
       " 'again',\n",
       " 'further',\n",
       " 'then',\n",
       " 'once',\n",
       " 'here',\n",
       " 'there',\n",
       " 'when',\n",
       " 'where',\n",
       " 'why',\n",
       " 'how',\n",
       " 'all',\n",
       " 'any',\n",
       " 'both',\n",
       " 'each',\n",
       " 'few',\n",
       " 'more',\n",
       " 'most',\n",
       " 'other',\n",
       " 'some',\n",
       " 'such',\n",
       " 'no',\n",
       " 'nor',\n",
       " 'not',\n",
       " 'only',\n",
       " 'own',\n",
       " 'same',\n",
       " 'so',\n",
       " 'than',\n",
       " 'too',\n",
       " 'very',\n",
       " 's',\n",
       " 't',\n",
       " 'can',\n",
       " 'will',\n",
       " 'just',\n",
       " 'don',\n",
       " \"don't\",\n",
       " 'should',\n",
       " \"should've\",\n",
       " 'now',\n",
       " 'd',\n",
       " 'll',\n",
       " 'm',\n",
       " 'o',\n",
       " 're',\n",
       " 've',\n",
       " 'y',\n",
       " 'ain',\n",
       " 'aren',\n",
       " \"aren't\",\n",
       " 'couldn',\n",
       " \"couldn't\",\n",
       " 'didn',\n",
       " \"didn't\",\n",
       " 'doesn',\n",
       " \"doesn't\",\n",
       " 'hadn',\n",
       " \"hadn't\",\n",
       " 'hasn',\n",
       " \"hasn't\",\n",
       " 'haven',\n",
       " \"haven't\",\n",
       " 'isn',\n",
       " \"isn't\",\n",
       " 'ma',\n",
       " 'mightn',\n",
       " \"mightn't\",\n",
       " 'mustn',\n",
       " \"mustn't\",\n",
       " 'needn',\n",
       " \"needn't\",\n",
       " 'shan',\n",
       " \"shan't\",\n",
       " 'shouldn',\n",
       " \"shouldn't\",\n",
       " 'wasn',\n",
       " \"wasn't\",\n",
       " 'weren',\n",
       " \"weren't\",\n",
       " 'won',\n",
       " \"won't\",\n",
       " 'wouldn',\n",
       " \"wouldn't\"]"
      ]
     },
     "execution_count": 19,
     "metadata": {},
     "output_type": "execute_result"
    }
   ],
   "source": [
    "sw"
   ]
  },
  {
   "cell_type": "code",
   "execution_count": 20,
   "id": "f6a25eac-8d43-4d20-b70c-e93409e36021",
   "metadata": {},
   "outputs": [],
   "source": [
    "data[\"self_text\"] = data[\"self_text\"].apply(lambda x: \" \".join(x for x in x.split() if x not in sw))"
   ]
  },
  {
   "cell_type": "code",
   "execution_count": 21,
   "id": "f77dfe69-0750-44e0-b817-f0922103cee8",
   "metadata": {},
   "outputs": [
    {
     "data": {
      "text/plain": [
       "0    lol kind busted translator device got speak ha...\n",
       "1    translation amen kill jews continue gazan oppr...\n",
       "2    friendly fact reminder israel stealing palesti...\n",
       "3    well would never support hamas actions israel ...\n",
       "4    absolutely evidence hamas taking captagon drug...\n",
       "Name: self_text, dtype: object"
      ]
     },
     "execution_count": 21,
     "metadata": {},
     "output_type": "execute_result"
    }
   ],
   "source": [
    "data[\"self_text\"].head()"
   ]
  },
  {
   "cell_type": "markdown",
   "id": "3c79da9c-558b-4c93-b456-1e0ddbf66bd1",
   "metadata": {},
   "source": [
    "## Stemming"
   ]
  },
  {
   "cell_type": "code",
   "execution_count": 22,
   "id": "3a049c39-96af-4431-853d-9fdb32343b11",
   "metadata": {},
   "outputs": [],
   "source": [
    "from nltk.stem import PorterStemmer\n",
    "ps = PorterStemmer()"
   ]
  },
  {
   "cell_type": "code",
   "execution_count": 23,
   "id": "a36810f0-931f-46f3-a443-73c8a1e1ee15",
   "metadata": {},
   "outputs": [],
   "source": [
    "data[\"self_text\"] = data[\"self_text\"].apply(lambda x: \" \".join(ps.stem(x) for x in x.split()))"
   ]
  },
  {
   "cell_type": "code",
   "execution_count": 24,
   "id": "2806e54f-ff54-4e01-bd61-0eac53b55d2c",
   "metadata": {},
   "outputs": [
    {
     "data": {
      "text/plain": [
       "0       lol kind bust translat devic got speak hasbara\n",
       "1         translat amen kill jew continu gazan oppress\n",
       "2    friendli fact remind israel steal palestin lan...\n",
       "3    well would never support hama action israel co...\n",
       "4    absolut evid hama take captagon drug similar p...\n",
       "Name: self_text, dtype: object"
      ]
     },
     "execution_count": 24,
     "metadata": {},
     "output_type": "execute_result"
    }
   ],
   "source": [
    "data[\"self_text\"].head()"
   ]
  },
  {
   "cell_type": "markdown",
   "id": "fa79d0e4-d699-4fb1-a85b-c8c979c994ca",
   "metadata": {},
   "source": [
    "## Build Vocabulary"
   ]
  },
  {
   "cell_type": "code",
   "execution_count": 25,
   "id": "e8b6e9df-bdd8-4b0a-a8aa-0cf943d56154",
   "metadata": {},
   "outputs": [],
   "source": [
    "from collections import Counter\n",
    "vocab = Counter()"
   ]
  },
  {
   "cell_type": "code",
   "execution_count": 26,
   "id": "cf53fe41-c3c2-450a-90ba-80967b15dd76",
   "metadata": {},
   "outputs": [
    {
     "data": {
      "text/plain": [
       "Counter()"
      ]
     },
     "execution_count": 26,
     "metadata": {},
     "output_type": "execute_result"
    }
   ],
   "source": [
    "vocab"
   ]
  },
  {
   "cell_type": "code",
   "execution_count": 27,
   "id": "70acba45-1138-41aa-a1a1-df36ad3cb128",
   "metadata": {},
   "outputs": [],
   "source": [
    "for sentence in data['self_text']:\n",
    "    vocab.update(sentence.split())"
   ]
  },
  {
   "cell_type": "code",
   "execution_count": 28,
   "id": "9bcb2fec-ddd3-4d2a-8137-8befe49616fd",
   "metadata": {},
   "outputs": [
    {
     "data": {
      "text/plain": [
       "13638"
      ]
     },
     "execution_count": 28,
     "metadata": {},
     "output_type": "execute_result"
    }
   ],
   "source": [
    "len(vocab)"
   ]
  },
  {
   "cell_type": "code",
   "execution_count": 29,
   "id": "0286de5a-ac8d-4102-a115-2bc0f14aa600",
   "metadata": {},
   "outputs": [
    {
     "data": {
      "text/plain": [
       "(10001, 3)"
      ]
     },
     "execution_count": 29,
     "metadata": {},
     "output_type": "execute_result"
    }
   ],
   "source": [
    "data.shape"
   ]
  },
  {
   "cell_type": "code",
   "execution_count": 30,
   "id": "e262b67b-5c2f-4236-a826-e0985af285d6",
   "metadata": {},
   "outputs": [
    {
     "data": {
      "text/plain": [
       "Counter({'israel': 3947,\n",
       "         'hama': 2877,\n",
       "         'peopl': 2519,\n",
       "         'palestinian': 2127,\n",
       "         'like': 1568,\n",
       "         'isra': 1440,\n",
       "         'jew': 1433,\n",
       "         'gaza': 1406,\n",
       "         'would': 1269,\n",
       "         'war': 1163,\n",
       "         'think': 1137,\n",
       "         'one': 1133,\n",
       "         'kill': 1099,\n",
       "         'dont': 1054,\n",
       "         'even': 1024,\n",
       "         'civilian': 1014,\n",
       "         'want': 996,\n",
       "         'say': 994,\n",
       "         'right': 968,\n",
       "         'go': 964,\n",
       "         'arab': 922,\n",
       "         'get': 920,\n",
       "         'know': 907,\n",
       "         'countri': 848,\n",
       "         'support': 841,\n",
       "         'also': 823,\n",
       "         'make': 801,\n",
       "         'live': 765,\n",
       "         'state': 759,\n",
       "         'us': 759,\n",
       "         'use': 730,\n",
       "         'world': 724,\n",
       "         'palestin': 712,\n",
       "         'bomb': 696,\n",
       "         'mani': 648,\n",
       "         'see': 645,\n",
       "         'year': 643,\n",
       "         'time': 626,\n",
       "         'attack': 623,\n",
       "         'it’': 621,\n",
       "         'land': 616,\n",
       "         'take': 611,\n",
       "         'peac': 609,\n",
       "         'happen': 584,\n",
       "         'way': 574,\n",
       "         'tri': 569,\n",
       "         'muslim': 564,\n",
       "         'jewish': 563,\n",
       "         'need': 561,\n",
       "         'govern': 560,\n",
       "         'don’t': 556,\n",
       "         'side': 536,\n",
       "         'thing': 515,\n",
       "         'terrorist': 514,\n",
       "         'well': 487,\n",
       "         'that': 481,\n",
       "         'mean': 475,\n",
       "         'look': 472,\n",
       "         'call': 471,\n",
       "         'back': 470,\n",
       "         'point': 464,\n",
       "         'much': 463,\n",
       "         'never': 461,\n",
       "         'realli': 453,\n",
       "         'idf': 444,\n",
       "         'im': 433,\n",
       "         'actual': 429,\n",
       "         'genocid': 425,\n",
       "         'west': 423,\n",
       "         'start': 420,\n",
       "         'said': 419,\n",
       "         'everi': 419,\n",
       "         'human': 415,\n",
       "         'still': 413,\n",
       "         'believ': 400,\n",
       "         'could': 398,\n",
       "         'hostag': 397,\n",
       "         'talk': 394,\n",
       "         'fight': 392,\n",
       "         'sinc': 378,\n",
       "         'good': 378,\n",
       "         'come': 371,\n",
       "         'group': 361,\n",
       "         'stop': 360,\n",
       "         'give': 359,\n",
       "         'reason': 355,\n",
       "         'conflict': 352,\n",
       "         'doesnt': 347,\n",
       "         'nation': 347,\n",
       "         'let': 342,\n",
       "         'care': 338,\n",
       "         'noth': 336,\n",
       "         'sure': 334,\n",
       "         'children': 333,\n",
       "         'video': 332,\n",
       "         'ye': 328,\n",
       "         'zionist': 323,\n",
       "         'histori': 323,\n",
       "         'anyth': 320,\n",
       "         'popul': 320,\n",
       "         'lot': 319,\n",
       "         'first': 317,\n",
       "         'understand': 316,\n",
       "         'your': 312,\n",
       "         'seem': 312,\n",
       "         'hate': 309,\n",
       "         'militari': 305,\n",
       "         'differ': 304,\n",
       "         'fact': 302,\n",
       "         'tell': 302,\n",
       "         'death': 301,\n",
       "         'day': 299,\n",
       "         'post': 295,\n",
       "         'help': 294,\n",
       "         'theyr': 293,\n",
       "         'murder': 292,\n",
       "         'didnt': 288,\n",
       "         'claim': 288,\n",
       "         'bank': 286,\n",
       "         'without': 286,\n",
       "         'un': 285,\n",
       "         'keep': 285,\n",
       "         'water': 285,\n",
       "         'die': 283,\n",
       "         'show': 281,\n",
       "         'solut': 280,\n",
       "         'innoc': 278,\n",
       "         'gt': 278,\n",
       "         'work': 278,\n",
       "         'forc': 278,\n",
       "         'read': 275,\n",
       "         'isnt': 272,\n",
       "         'cant': 271,\n",
       "         'power': 264,\n",
       "         'place': 262,\n",
       "         'feel': 261,\n",
       "         'control': 260,\n",
       "         'fuck': 260,\n",
       "         'terror': 260,\n",
       "         'liter': 260,\n",
       "         'ask': 257,\n",
       "         'protest': 255,\n",
       "         'american': 253,\n",
       "         'exist': 253,\n",
       "         'around': 252,\n",
       "         'alway': 251,\n",
       "         'agre': 251,\n",
       "         'lie': 249,\n",
       "         'allow': 248,\n",
       "         'guy': 248,\n",
       "         'part': 247,\n",
       "         'end': 247,\n",
       "         'problem': 247,\n",
       "         'russia': 247,\n",
       "         'someth': 246,\n",
       "         'number': 246,\n",
       "         'rocket': 244,\n",
       "         'target': 244,\n",
       "         'wrong': 242,\n",
       "         'i’m': 241,\n",
       "         'two': 241,\n",
       "         'million': 240,\n",
       "         'media': 240,\n",
       "         'caus': 236,\n",
       "         'egypt': 234,\n",
       "         'comment': 233,\n",
       "         'that’': 230,\n",
       "         'respons': 229,\n",
       "         'thousand': 229,\n",
       "         'ethnic': 227,\n",
       "         'everyon': 227,\n",
       "         'free': 227,\n",
       "         'dead': 226,\n",
       "         'question': 224,\n",
       "         'intern': 224,\n",
       "         'hospit': 224,\n",
       "         'alreadi': 223,\n",
       "         'anoth': 223,\n",
       "         'antisemit': 222,\n",
       "         'area': 220,\n",
       "         'person': 219,\n",
       "         'find': 219,\n",
       "         'lol': 218,\n",
       "         'crime': 218,\n",
       "         'far': 218,\n",
       "         'propaganda': 217,\n",
       "         'anyon': 216,\n",
       "         'commit': 215,\n",
       "         'sourc': 215,\n",
       "         'yeah': 214,\n",
       "         'made': 213,\n",
       "         'middl': 213,\n",
       "         'th': 212,\n",
       "         'home': 212,\n",
       "         'leav': 212,\n",
       "         'action': 211,\n",
       "         'better': 210,\n",
       "         'destroy': 210,\n",
       "         'includ': 210,\n",
       "         'build': 210,\n",
       "         'got': 209,\n",
       "         'situat': 208,\n",
       "         'mayb': 208,\n",
       "         'put': 207,\n",
       "         'seen': 207,\n",
       "         'bad': 206,\n",
       "         'long': 206,\n",
       "         'left': 206,\n",
       "         'islam': 204,\n",
       "         'someon': 203,\n",
       "         'violenc': 202,\n",
       "         'border': 202,\n",
       "         'religion': 201,\n",
       "         'major': 201,\n",
       "         'last': 200,\n",
       "         'enough': 199,\n",
       "         'famili': 199,\n",
       "         'whole': 198,\n",
       "         'done': 197,\n",
       "         'shit': 197,\n",
       "         'iran': 197,\n",
       "         'justifi': 196,\n",
       "         'though': 196,\n",
       "         'polit': 195,\n",
       "         'probabl': 195,\n",
       "         'issu': 194,\n",
       "         'gener': 194,\n",
       "         'entir': 192,\n",
       "         'accept': 189,\n",
       "         'you’r': 188,\n",
       "         'soldier': 188,\n",
       "         'turn': 188,\n",
       "         'least': 187,\n",
       "         'doesn’t': 187,\n",
       "         'there': 186,\n",
       "         'base': 186,\n",
       "         'either': 186,\n",
       "         'gazan': 185,\n",
       "         'weapon': 185,\n",
       "         'thank': 184,\n",
       "         'casualti': 183,\n",
       "         'plan': 183,\n",
       "         'occupi': 182,\n",
       "         'hope': 181,\n",
       "         'interest': 181,\n",
       "         'ever': 181,\n",
       "         'matter': 180,\n",
       "         'region': 177,\n",
       "         'kind': 175,\n",
       "         'new': 174,\n",
       "         'life': 174,\n",
       "         'continu': 173,\n",
       "         'western': 172,\n",
       "         'complet': 172,\n",
       "         'real': 171,\n",
       "         'aid': 169,\n",
       "         'chang': 168,\n",
       "         'creat': 168,\n",
       "         'east': 168,\n",
       "         'they’r': 167,\n",
       "         'citizen': 167,\n",
       "         'blame': 166,\n",
       "         'current': 166,\n",
       "         'ignor': 165,\n",
       "         'law': 165,\n",
       "         'organ': 165,\n",
       "         'yet': 164,\n",
       "         'word': 163,\n",
       "         'true': 162,\n",
       "         'less': 161,\n",
       "         'rule': 160,\n",
       "         'money': 159,\n",
       "         'case': 159,\n",
       "         'russian': 159,\n",
       "         'pleas': 158,\n",
       "         'babi': 158,\n",
       "         'condemn': 156,\n",
       "         'defend': 155,\n",
       "         'tunnel': 155,\n",
       "         'everyth': 154,\n",
       "         'pretti': 154,\n",
       "         'love': 154,\n",
       "         'etc': 153,\n",
       "         'took': 152,\n",
       "         'pro': 152,\n",
       "         'ago': 151,\n",
       "         'provid': 150,\n",
       "         'wont': 150,\n",
       "         'america': 150,\n",
       "         'clear': 150,\n",
       "         'basic': 149,\n",
       "         'refuge': 149,\n",
       "         'fire': 148,\n",
       "         'might': 148,\n",
       "         'occup': 148,\n",
       "         'octob': 147,\n",
       "         'guess': 147,\n",
       "         'leader': 147,\n",
       "         'settler': 147,\n",
       "         'consid': 147,\n",
       "         'nazi': 146,\n",
       "         'definit': 146,\n",
       "         'exactli': 145,\n",
       "         'act': 145,\n",
       "         'arent': 145,\n",
       "         'cours': 145,\n",
       "         'cleans': 144,\n",
       "         'return': 144,\n",
       "         'follow': 144,\n",
       "         'thought': 143,\n",
       "         'exampl': 143,\n",
       "         'sub': 143,\n",
       "         'white': 143,\n",
       "         'elect': 142,\n",
       "         'els': 142,\n",
       "         'answer': 142,\n",
       "         'didn’t': 141,\n",
       "         'idea': 141,\n",
       "         'away': 141,\n",
       "         'rape': 140,\n",
       "         'christian': 140,\n",
       "         'friend': 140,\n",
       "         'absolut': 139,\n",
       "         'evid': 139,\n",
       "         'possibl': 139,\n",
       "         'old': 138,\n",
       "         'remov': 138,\n",
       "         'watch': 138,\n",
       "         'releas': 137,\n",
       "         'enemi': 137,\n",
       "         'must': 136,\n",
       "         'instead': 136,\n",
       "         'becom': 136,\n",
       "         'kid': 135,\n",
       "         'week': 135,\n",
       "         'deal': 135,\n",
       "         'expect': 135,\n",
       "         'secur': 134,\n",
       "         'decad': 134,\n",
       "         'apartheid': 134,\n",
       "         'open': 134,\n",
       "         'name': 133,\n",
       "         'hide': 133,\n",
       "         'lose': 133,\n",
       "         'black': 133,\n",
       "         'ukrain': 132,\n",
       "         'suffer': 132,\n",
       "         'oh': 131,\n",
       "         'sound': 131,\n",
       "         'past': 131,\n",
       "         'singl': 130,\n",
       "         'hold': 130,\n",
       "         'move': 130,\n",
       "         'best': 129,\n",
       "         'vote': 129,\n",
       "         'full': 129,\n",
       "         'religi': 129,\n",
       "         'armi': 129,\n",
       "         'women': 129,\n",
       "         'can’t': 129,\n",
       "         'oppress': 128,\n",
       "         'settlement': 128,\n",
       "         'hand': 127,\n",
       "         'parti': 127,\n",
       "         'isn’t': 127,\n",
       "         'speak': 126,\n",
       "         'protect': 126,\n",
       "         'logic': 126,\n",
       "         'british': 126,\n",
       "         'intent': 124,\n",
       "         'territori': 124,\n",
       "         'victim': 123,\n",
       "         'toward': 122,\n",
       "         'citi': 122,\n",
       "         'report': 121,\n",
       "         'hard': 121,\n",
       "         'argument': 120,\n",
       "         'ground': 120,\n",
       "         'prison': 119,\n",
       "         'news': 118,\n",
       "         'ok': 118,\n",
       "         'ive': 118,\n",
       "         'clearli': 118,\n",
       "         'europ': 118,\n",
       "         'negoti': 118,\n",
       "         'given': 118,\n",
       "         'massacr': 118,\n",
       "         'truth': 118,\n",
       "         'may': 118,\n",
       "         'shield': 117,\n",
       "         'lost': 117,\n",
       "         'today': 117,\n",
       "         'evil': 116,\n",
       "         'second': 116,\n",
       "         'holocaust': 116,\n",
       "         'term': 115,\n",
       "         'opinion': 115,\n",
       "         'stupid': 115,\n",
       "         'almost': 114,\n",
       "         'jordan': 114,\n",
       "         'commun': 114,\n",
       "         'mention': 113,\n",
       "         'run': 113,\n",
       "         'total': 113,\n",
       "         'win': 113,\n",
       "         'oct': 112,\n",
       "         'posit': 112,\n",
       "         'strike': 112,\n",
       "         'man': 112,\n",
       "         'behind': 112,\n",
       "         'suppli': 112,\n",
       "         'god': 112,\n",
       "         'inform': 111,\n",
       "         'share': 111,\n",
       "         'netanyahu': 111,\n",
       "         'within': 111,\n",
       "         'oper': 111,\n",
       "         'south': 111,\n",
       "         'hous': 110,\n",
       "         'level': 110,\n",
       "         'usa': 109,\n",
       "         'imagin': 109,\n",
       "         'littl': 109,\n",
       "         'link': 108,\n",
       "         'abl': 108,\n",
       "         'stand': 108,\n",
       "         'especi': 108,\n",
       "         'gonna': 107,\n",
       "         'result': 107,\n",
       "         'stay': 107,\n",
       "         'racist': 107,\n",
       "         'larg': 107,\n",
       "         'came': 107,\n",
       "         'hundr': 106,\n",
       "         'import': 106,\n",
       "         'unfortun': 106,\n",
       "         'germani': 106,\n",
       "         'critic': 105,\n",
       "         'went': 105,\n",
       "         'great': 104,\n",
       "         'wouldnt': 104,\n",
       "         'whatev': 104,\n",
       "         'movement': 104,\n",
       "         'school': 103,\n",
       "         'involv': 103,\n",
       "         'accord': 103,\n",
       "         'freedom': 103,\n",
       "         'goal': 102,\n",
       "         'kidnap': 101,\n",
       "         'half': 101,\n",
       "         'civil': 101,\n",
       "         'moral': 101,\n",
       "         'big': 100,\n",
       "         'other': 100,\n",
       "         'send': 100,\n",
       "         'hear': 99,\n",
       "         'rather': 99,\n",
       "         'safe': 99,\n",
       "         'face': 98,\n",
       "         'howev': 98,\n",
       "         'learn': 98,\n",
       "         'sens': 98,\n",
       "         'line': 98,\n",
       "         'refus': 97,\n",
       "         'activ': 97,\n",
       "         'view': 96,\n",
       "         'specif': 96,\n",
       "         'simpli': 96,\n",
       "         'play': 96,\n",
       "         'wasnt': 96,\n",
       "         'aren’t': 96,\n",
       "         'ampxb': 96,\n",
       "         'check': 95,\n",
       "         'there’': 95,\n",
       "         'fund': 95,\n",
       "         'will': 95,\n",
       "         'dagestan': 95,\n",
       "         'ceasefir': 95,\n",
       "         'isi': 95,\n",
       "         'found': 94,\n",
       "         'decid': 94,\n",
       "         'sorri': 94,\n",
       "         'social': 94,\n",
       "         'resist': 93,\n",
       "         'mind': 93,\n",
       "         'air': 93,\n",
       "         'mostli': 93,\n",
       "         'deni': 92,\n",
       "         'nobodi': 92,\n",
       "         'small': 92,\n",
       "         'assum': 92,\n",
       "         'rememb': 92,\n",
       "         'coloni': 92,\n",
       "         'shoot': 92,\n",
       "         'european': 92,\n",
       "         'wors': 92,\n",
       "         'alli': 92,\n",
       "         'china': 92,\n",
       "         'saw': 91,\n",
       "         'evacu': 91,\n",
       "         'syria': 91,\n",
       "         'iron': 91,\n",
       "         'hit': 91,\n",
       "         'extrem': 90,\n",
       "         'billion': 90,\n",
       "         'iraq': 90,\n",
       "         'taken': 89,\n",
       "         'collect': 89,\n",
       "         'proof': 89,\n",
       "         'demand': 89,\n",
       "         'declar': 89,\n",
       "         'argu': 89,\n",
       "         'origin': 89,\n",
       "         'lead': 89,\n",
       "         'amp': 89,\n",
       "         'realiti': 89,\n",
       "         'blockad': 89,\n",
       "         'hell': 89,\n",
       "         'arm': 88,\n",
       "         'hatr': 88,\n",
       "         'member': 88,\n",
       "         'recent': 88,\n",
       "         'equal': 88,\n",
       "         'invad': 88,\n",
       "         'strip': 87,\n",
       "         'high': 87,\n",
       "         'articl': 87,\n",
       "         'futur': 87,\n",
       "         'independ': 87,\n",
       "         'german': 87,\n",
       "         'obvious': 86,\n",
       "         'deserv': 86,\n",
       "         'heard': 86,\n",
       "         'next': 86,\n",
       "         'bodi': 86,\n",
       "         'histor': 85,\n",
       "         'discuss': 85,\n",
       "         'israel’': 85,\n",
       "         'compar': 85,\n",
       "         'form': 85,\n",
       "         'defens': 85,\n",
       "         'okay': 85,\n",
       "         'excus': 84,\n",
       "         'spread': 84,\n",
       "         'sad': 84,\n",
       "         'i’v': 84,\n",
       "         'what': 84,\n",
       "         'north': 84,\n",
       "         'account': 83,\n",
       "         'order': 83,\n",
       "         'head': 83,\n",
       "         'wonder': 82,\n",
       "         'trust': 82,\n",
       "         'educ': 82,\n",
       "         'quit': 82,\n",
       "         'nice': 82,\n",
       "         'refer': 82,\n",
       "         'launch': 80,\n",
       "         'illeg': 80,\n",
       "         'close': 80,\n",
       "         'wish': 80,\n",
       "         'stuff': 79,\n",
       "         'offici': 79,\n",
       "         'offer': 79,\n",
       "         'treat': 79,\n",
       "         'wait': 79,\n",
       "         'except': 79,\n",
       "         'push': 79,\n",
       "         'gave': 79,\n",
       "         'public': 79,\n",
       "         'system': 79,\n",
       "         'steal': 78,\n",
       "         'atroc': 78,\n",
       "         'told': 78,\n",
       "         'food': 78,\n",
       "         'cannot': 78,\n",
       "         'establish': 78,\n",
       "         'legitim': 78,\n",
       "         'author': 78,\n",
       "         'resourc': 77,\n",
       "         'break': 77,\n",
       "         'zionism': 77,\n",
       "         'oppos': 77,\n",
       "         'step': 76,\n",
       "         'colon': 76,\n",
       "         'realiz': 76,\n",
       "         'camp': 76,\n",
       "         'goe': 76,\n",
       "         'anti': 76,\n",
       "         'amount': 75,\n",
       "         'moment': 75,\n",
       "         'attempt': 75,\n",
       "         'street': 75,\n",
       "         'cut': 75,\n",
       "         'direct': 75,\n",
       "         'modern': 75,\n",
       "         'displac': 74,\n",
       "         'anyway': 74,\n",
       "         'bunch': 74,\n",
       "         'due': 74,\n",
       "         'huge': 74,\n",
       "         'bring': 73,\n",
       "         'invas': 73,\n",
       "         'slaughter': 73,\n",
       "         'event': 73,\n",
       "         'age': 73,\n",
       "         'certainli': 73,\n",
       "         'edit': 73,\n",
       "         'explain': 73,\n",
       "         'reddit': 73,\n",
       "         'massiv': 73,\n",
       "         'ban': 73,\n",
       "         'brutal': 73,\n",
       "         'unit': 72,\n",
       "         'damag': 72,\n",
       "         'centuri': 72,\n",
       "         'normal': 72,\n",
       "         'pay': 72,\n",
       "         'fuel': 72,\n",
       "         'nativ': 72,\n",
       "         'chanc': 72,\n",
       "         'job': 72,\n",
       "         'later': 72,\n",
       "         'fair': 72,\n",
       "         'eye': 72,\n",
       "         'jerusalem': 72,\n",
       "         'child': 71,\n",
       "         'surpris': 71,\n",
       "         'threat': 71,\n",
       "         'al': 71,\n",
       "         'hezbollah': 71,\n",
       "         'leadership': 70,\n",
       "         'honestli': 70,\n",
       "         'narr': 70,\n",
       "         'prove': 70,\n",
       "         'statement': 70,\n",
       "         'polici': 70,\n",
       "         'bibi': 70,\n",
       "         'cultur': 70,\n",
       "         'kick': 70,\n",
       "         'rest': 69,\n",
       "         'saudi': 69,\n",
       "         'repres': 69,\n",
       "         'electr': 69,\n",
       "         'foreign': 69,\n",
       "         'stori': 69,\n",
       "         'lebanon': 69,\n",
       "         'bit': 68,\n",
       "         'blood': 68,\n",
       "         'enter': 68,\n",
       "         'drop': 68,\n",
       "         'elimin': 68,\n",
       "         'book': 68,\n",
       "         'doubt': 68,\n",
       "         'immigr': 68,\n",
       "         'strong': 68,\n",
       "         'fail': 67,\n",
       "         'born': 67,\n",
       "         'none': 67,\n",
       "         'liber': 67,\n",
       "         'aliv': 67,\n",
       "         'concern': 67,\n",
       "         'togeth': 67,\n",
       "         'ww': 67,\n",
       "         'throw': 66,\n",
       "         'agreement': 66,\n",
       "         'infrastructur': 66,\n",
       "         'similar': 65,\n",
       "         'id': 65,\n",
       "         'suppos': 65,\n",
       "         'footag': 65,\n",
       "         'immedi': 65,\n",
       "         'suggest': 65,\n",
       "         'horribl': 65,\n",
       "         'idiot': 65,\n",
       "         'valu': 65,\n",
       "         'insan': 64,\n",
       "         'wipe': 64,\n",
       "         'burn': 64,\n",
       "         'seriou': 64,\n",
       "         'respond': 64,\n",
       "         'extremist': 64,\n",
       "         'warn': 64,\n",
       "         'plo': 64,\n",
       "         'requir': 64,\n",
       "         'recogn': 64,\n",
       "         'empir': 64,\n",
       "         'k': 64,\n",
       "         'effect': 64,\n",
       "         'pa': 63,\n",
       "         'known': 63,\n",
       "         'easi': 63,\n",
       "         'sea': 63,\n",
       "         'outsid': 63,\n",
       "         'disgust': 62,\n",
       "         'truli': 62,\n",
       "         'forget': 62,\n",
       "         'plenti': 62,\n",
       "         'simpl': 62,\n",
       "         'standard': 62,\n",
       "         'humanitarian': 62,\n",
       "         'prevent': 62,\n",
       "         'neighbor': 62,\n",
       "         'multipl': 61,\n",
       "         'shot': 61,\n",
       "         'fighter': 61,\n",
       "         'usual': 61,\n",
       "         'welcom': 61,\n",
       "         'reject': 61,\n",
       "         'carpet': 61,\n",
       "         'tree': 61,\n",
       "         'fault': 60,\n",
       "         'mass': 60,\n",
       "         'begin': 60,\n",
       "         'global': 60,\n",
       "         'reveng': 60,\n",
       "         'op': 60,\n",
       "         'purpos': 59,\n",
       "         'unless': 59,\n",
       "         'destruct': 59,\n",
       "         'minor': 59,\n",
       "         'young': 59,\n",
       "         'wouldn’t': 59,\n",
       "         'count': 59,\n",
       "         'list': 59,\n",
       "         'save': 59,\n",
       "         'won’t': 59,\n",
       "         'regim': 59,\n",
       "         'avoid': 59,\n",
       "         'self': 59,\n",
       "         'belief': 59,\n",
       "         'alon': 59,\n",
       "         'context': 59,\n",
       "         'along': 59,\n",
       "         'among': 59,\n",
       "         'gone': 59,\n",
       "         'celebr': 58,\n",
       "         'journalist': 58,\n",
       "         'option': 58,\n",
       "         'funni': 58,\n",
       "         'serv': 58,\n",
       "         'punish': 58,\n",
       "         'held': 58,\n",
       "         'hour': 58,\n",
       "         'tortur': 58,\n",
       "         'semit': 58,\n",
       "         'worth': 57,\n",
       "         'l': 57,\n",
       "         'milit': 57,\n",
       "         'econom': 57,\n",
       "         'set': 57,\n",
       "         'crazi': 57,\n",
       "         'ottoman': 57,\n",
       "         'promis': 57,\n",
       "         'hurt': 57,\n",
       "         'shouldnt': 57,\n",
       "         'earth': 57,\n",
       "         'ill': 56,\n",
       "         'fake': 56,\n",
       "         'join': 56,\n",
       "         'success': 56,\n",
       "         'month': 56,\n",
       "         'theyv': 56,\n",
       "         'block': 56,\n",
       "         'allah': 56,\n",
       "         'uk': 56,\n",
       "         'coupl': 55,\n",
       "         'type': 55,\n",
       "         'natur': 55,\n",
       "         'relat': 55,\n",
       "         'neither': 55,\n",
       "         'men': 55,\n",
       "         'practic': 55,\n",
       "         'societi': 55,\n",
       "         'dumb': 55,\n",
       "         'brother': 55,\n",
       "         'hebrew': 55,\n",
       "         'sit': 55,\n",
       "         'document': 55,\n",
       "         'engag': 55,\n",
       "         'own': 55,\n",
       "         'pogrom': 55,\n",
       "         'b': 55,\n",
       "         'confus': 54,\n",
       "         'behead': 54,\n",
       "         'trade': 54,\n",
       "         'he': 54,\n",
       "         'process': 54,\n",
       "         'mental': 54,\n",
       "         'game': 54,\n",
       "         'violent': 54,\n",
       "         'lmao': 54,\n",
       "         'front': 54,\n",
       "         'dude': 54,\n",
       "         'obviou': 54,\n",
       "         'local': 53,\n",
       "         'internet': 53,\n",
       "         'admit': 53,\n",
       "         'flag': 53,\n",
       "         'correct': 53,\n",
       "         'serious': 53,\n",
       "         'insid': 53,\n",
       "         'receiv': 53,\n",
       "         'pictur': 52,\n",
       "         'fals': 52,\n",
       "         'combat': 52,\n",
       "         'danger': 52,\n",
       "         'choic': 52,\n",
       "         'choos': 52,\n",
       "         'remain': 52,\n",
       "         'built': 52,\n",
       "         'dome': 52,\n",
       "         'intellig': 52,\n",
       "         'brainwash': 52,\n",
       "         'ideolog': 52,\n",
       "         'somehow': 51,\n",
       "         'knew': 51,\n",
       "         'anymor': 51,\n",
       "         'often': 51,\n",
       "         'tactic': 51,\n",
       "         'near': 51,\n",
       "         'pull': 51,\n",
       "         'grow': 51,\n",
       "         'locat': 51,\n",
       "         'propalestinian': 51,\n",
       "         'missil': 51,\n",
       "         'fall': 51,\n",
       "         'appar': 51,\n",
       "         'afghanistan': 51,\n",
       "         'class': 50,\n",
       "         'fear': 50,\n",
       "         'blind': 50,\n",
       "         'special': 50,\n",
       "         'cri': 50,\n",
       "         'walk': 50,\n",
       "         'listen': 50,\n",
       "         'fascist': 49,\n",
       "         'carri': 49,\n",
       "         'politician': 49,\n",
       "         'ass': 49,\n",
       "         'radic': 49,\n",
       "         'couldnt': 49,\n",
       "         'throughout': 49,\n",
       "         'rid': 49,\n",
       "         'anywher': 49,\n",
       "         'pipe': 49,\n",
       "         'nuke': 48,\n",
       "         'sometim': 48,\n",
       "         'root': 48,\n",
       "         'weird': 48,\n",
       "         'otherwis': 48,\n",
       "         'eventu': 48,\n",
       "         'pick': 48,\n",
       "         'present': 48,\n",
       "         'easili': 48,\n",
       "         'aim': 48,\n",
       "         'ridicul': 48,\n",
       "         'surrend': 47,\n",
       "         'wasn’t': 47,\n",
       "         'soon': 47,\n",
       "         'havent': 47,\n",
       "         'regard': 47,\n",
       "         'piec': 47,\n",
       "         'maintain': 47,\n",
       "         'figur': 47,\n",
       "         'sever': 47,\n",
       "         'democraci': 47,\n",
       "         'qatar': 47,\n",
       "         'happi': 47,\n",
       "         'awar': 47,\n",
       "         'egyptian': 47,\n",
       "         'isreal': 47,\n",
       "         'cross': 47,\n",
       "         'tank': 47,\n",
       "         'legal': 47,\n",
       "         'israelit': 47,\n",
       "         'lack': 47,\n",
       "         'btw': 46,\n",
       "         'capabl': 46,\n",
       "         'chant': 46,\n",
       "         'risk': 46,\n",
       "         'opposit': 46,\n",
       "         'airport': 46,\n",
       "         'arabia': 46,\n",
       "         'belong': 46,\n",
       "         'river': 46,\n",
       "         'reaction': 46,\n",
       "         'downvot': 46,\n",
       "         'turkey': 46,\n",
       "         'access': 45,\n",
       "         'condit': 45,\n",
       "         'whether': 45,\n",
       "         'search': 45,\n",
       "         'directli': 45,\n",
       "         'notic': 45,\n",
       "         'parent': 45,\n",
       "         'erad': 45,\n",
       "         'acknowledg': 45,\n",
       "         'offic': 45,\n",
       "         'heart': 45,\n",
       "         'despit': 45,\n",
       "         'indiscrimin': 45,\n",
       "         'eastern': 45,\n",
       "         'brain': 45,\n",
       "         'regardless': 45,\n",
       "         'terribl': 45,\n",
       "         'surviv': 45,\n",
       "         'final': 44,\n",
       "         'u': 44,\n",
       "         '“the': 44,\n",
       "         'sent': 44,\n",
       "         'biden': 44,\n",
       "         'common': 44,\n",
       "         'becam': 44,\n",
       "         'led': 44,\n",
       "         'troll': 44,\n",
       "         'respect': 44,\n",
       "         'poor': 44,\n",
       "         'theyll': 44,\n",
       "         'stolen': 44,\n",
       "         'remind': 43,\n",
       "         'safeti': 43,\n",
       "         'benefit': 43,\n",
       "         'convinc': 43,\n",
       "         'angri': 43,\n",
       "         'longer': 43,\n",
       "         'bullshit': 43,\n",
       "         'bot': 43,\n",
       "         'voic': 43,\n",
       "         'pretend': 43,\n",
       "         'object': 43,\n",
       "         'channel': 43,\n",
       "         'campaign': 43,\n",
       "         'thread': 43,\n",
       "         'what’': 43,\n",
       "         'bro': 43,\n",
       "         'accus': 42,\n",
       "         'across': 42,\n",
       "         'cycl': 42,\n",
       "         'resolut': 42,\n",
       "         'univers': 42,\n",
       "         'sign': 42,\n",
       "         'they’v': 42,\n",
       "         'note': 42,\n",
       "         'surround': 42,\n",
       "         'harm': 42,\n",
       "         'vs': 42,\n",
       "         'sort': 42,\n",
       "         'relev': 42,\n",
       "         'yemen': 42,\n",
       "         'wb': 42,\n",
       "         'nakba': 42,\n",
       "         'polic': 42,\n",
       "         'three': 42,\n",
       "         'languag': 42,\n",
       "         'gun': 41,\n",
       "         'precis': 41,\n",
       "         'repeat': 41,\n",
       "         'wing': 41,\n",
       "         'disagre': 41,\n",
       "         'worst': 41,\n",
       "         'googl': 41,\n",
       "         'per': 41,\n",
       "         'weak': 41,\n",
       "         'troop': 41,\n",
       "         'extermin': 41,\n",
       "         'upon': 41,\n",
       "         'coward': 41,\n",
       "         'describ': 41,\n",
       "         'exact': 41,\n",
       "         'bs': 41,\n",
       "         'project': 40,\n",
       "         'twostat': 40,\n",
       "         'joke': 40,\n",
       "         'consequ': 40,\n",
       "         'we’r': 40,\n",
       "         'exchang': 40,\n",
       "         'appli': 40,\n",
       "         'damn': 40,\n",
       "         'march': 40,\n",
       "         'decis': 40,\n",
       "         'expel': 40,\n",
       "         'trump': 40,\n",
       "         'ident': 40,\n",
       "         'carrier': 40,\n",
       "         'main': 40,\n",
       "         'defeat': 40,\n",
       "         'cost': 40,\n",
       "         'propalestin': 40,\n",
       "         'room': 39,\n",
       "         'minim': 39,\n",
       "         'suicid': 39,\n",
       "         '—': 39,\n",
       "         'mob': 39,\n",
       "         'although': 39,\n",
       "         'ukrainian': 39,\n",
       "         'minist': 39,\n",
       "         'doubl': 39,\n",
       "         'effort': 39,\n",
       "         'democrat': 39,\n",
       "         ...})"
      ]
     },
     "execution_count": 30,
     "metadata": {},
     "output_type": "execute_result"
    }
   ],
   "source": [
    "vocab"
   ]
  },
  {
   "cell_type": "code",
   "execution_count": 31,
   "id": "1a7e388e-7a2b-497e-990a-9adf65f2a3ff",
   "metadata": {},
   "outputs": [],
   "source": [
    "tokens = [key for key in vocab if vocab[key] > 10]"
   ]
  },
  {
   "cell_type": "code",
   "execution_count": 32,
   "id": "d6c8a490-010f-4789-a96a-1bc5328c2bbb",
   "metadata": {},
   "outputs": [
    {
     "data": {
      "text/plain": [
       "2337"
      ]
     },
     "execution_count": 32,
     "metadata": {},
     "output_type": "execute_result"
    }
   ],
   "source": [
    "len(tokens)"
   ]
  },
  {
   "cell_type": "code",
   "execution_count": 33,
   "id": "e9b6a9f8-6d40-4960-a1d8-751516040f17",
   "metadata": {},
   "outputs": [],
   "source": [
    "def save_vocabulary(lines, filename):\n",
    "    data = '\\n'.join(lines)\n",
    "    file = open(filename, 'w', encoding=\"utf-8\")\n",
    "    file.write(data)\n",
    "    file.close()\n",
    "\n",
    "save_vocabulary(tokens, '../static/model/vocabulary.txt')"
   ]
  },
  {
   "cell_type": "code",
   "execution_count": 34,
   "id": "f41e485c-2284-42eb-97b2-dd110d010f8a",
   "metadata": {},
   "outputs": [
    {
     "data": {
      "text/html": [
       "<div>\n",
       "<style scoped>\n",
       "    .dataframe tbody tr th:only-of-type {\n",
       "        vertical-align: middle;\n",
       "    }\n",
       "\n",
       "    .dataframe tbody tr th {\n",
       "        vertical-align: top;\n",
       "    }\n",
       "\n",
       "    .dataframe thead th {\n",
       "        text-align: right;\n",
       "    }\n",
       "</style>\n",
       "<table border=\"1\" class=\"dataframe\">\n",
       "  <thead>\n",
       "    <tr style=\"text-align: right;\">\n",
       "      <th></th>\n",
       "      <th>comment_id</th>\n",
       "      <th>self_text</th>\n",
       "      <th>label</th>\n",
       "    </tr>\n",
       "  </thead>\n",
       "  <tbody>\n",
       "    <tr>\n",
       "      <th>0</th>\n",
       "      <td>k70vrzb</td>\n",
       "      <td>lol kind bust translat devic got speak hasbara</td>\n",
       "      <td>0.0</td>\n",
       "    </tr>\n",
       "    <tr>\n",
       "      <th>1</th>\n",
       "      <td>k70vk4r</td>\n",
       "      <td>translat amen kill jew continu gazan oppress</td>\n",
       "      <td>0.0</td>\n",
       "    </tr>\n",
       "    <tr>\n",
       "      <th>2</th>\n",
       "      <td>k70vhew</td>\n",
       "      <td>friendli fact remind israel steal palestin lan...</td>\n",
       "      <td>0.0</td>\n",
       "    </tr>\n",
       "    <tr>\n",
       "      <th>3</th>\n",
       "      <td>k70ve4h</td>\n",
       "      <td>well would never support hama action israel co...</td>\n",
       "      <td>0.0</td>\n",
       "    </tr>\n",
       "    <tr>\n",
       "      <th>4</th>\n",
       "      <td>k70vaxh</td>\n",
       "      <td>absolut evid hama take captagon drug similar p...</td>\n",
       "      <td>1.0</td>\n",
       "    </tr>\n",
       "    <tr>\n",
       "      <th>...</th>\n",
       "      <td>...</td>\n",
       "      <td>...</td>\n",
       "      <td>...</td>\n",
       "    </tr>\n",
       "    <tr>\n",
       "      <th>9996</th>\n",
       "      <td>k6xxvbz</td>\n",
       "      <td>gtthe peopl ive fight equal right issu sinc pe...</td>\n",
       "      <td>1.0</td>\n",
       "    </tr>\n",
       "    <tr>\n",
       "      <th>9997</th>\n",
       "      <td>k6xxv7i</td>\n",
       "      <td>think someon right kick home live mani year</td>\n",
       "      <td>1.0</td>\n",
       "    </tr>\n",
       "    <tr>\n",
       "      <th>9998</th>\n",
       "      <td>k6xxunr</td>\n",
       "      <td>nobodi think egypt syria either</td>\n",
       "      <td>1.0</td>\n",
       "    </tr>\n",
       "    <tr>\n",
       "      <th>9999</th>\n",
       "      <td>k6xxtox</td>\n",
       "      <td>build arena sole purpos violent protest keep c...</td>\n",
       "      <td>1.0</td>\n",
       "    </tr>\n",
       "    <tr>\n",
       "      <th>10000</th>\n",
       "      <td>k6xvrp1</td>\n",
       "      <td>cnn said hama base hospit next day strike kill...</td>\n",
       "      <td>0.0</td>\n",
       "    </tr>\n",
       "  </tbody>\n",
       "</table>\n",
       "<p>10001 rows × 3 columns</p>\n",
       "</div>"
      ],
      "text/plain": [
       "      comment_id                                          self_text  label\n",
       "0        k70vrzb     lol kind bust translat devic got speak hasbara    0.0\n",
       "1        k70vk4r       translat amen kill jew continu gazan oppress    0.0\n",
       "2        k70vhew  friendli fact remind israel steal palestin lan...    0.0\n",
       "3        k70ve4h  well would never support hama action israel co...    0.0\n",
       "4        k70vaxh  absolut evid hama take captagon drug similar p...    1.0\n",
       "...          ...                                                ...    ...\n",
       "9996     k6xxvbz  gtthe peopl ive fight equal right issu sinc pe...    1.0\n",
       "9997     k6xxv7i        think someon right kick home live mani year    1.0\n",
       "9998     k6xxunr                    nobodi think egypt syria either    1.0\n",
       "9999     k6xxtox  build arena sole purpos violent protest keep c...    1.0\n",
       "10000    k6xvrp1  cnn said hama base hospit next day strike kill...    0.0\n",
       "\n",
       "[10001 rows x 3 columns]"
      ]
     },
     "execution_count": 34,
     "metadata": {},
     "output_type": "execute_result"
    }
   ],
   "source": [
    "data"
   ]
  },
  {
   "cell_type": "markdown",
   "id": "144d8a56-ba78-424c-afc5-3909c48993f4",
   "metadata": {},
   "source": [
    "## Divide dataset"
   ]
  },
  {
   "cell_type": "code",
   "execution_count": 35,
   "id": "1e21110d-8455-41b8-9e1e-1feee3bcaaf1",
   "metadata": {},
   "outputs": [],
   "source": [
    "x= data['self_text']\n",
    "y= data['label']"
   ]
  },
  {
   "cell_type": "code",
   "execution_count": 36,
   "id": "2d4dedff-b495-46a4-b3dc-51f49a029aba",
   "metadata": {},
   "outputs": [
    {
     "name": "stdout",
     "output_type": "stream",
     "text": [
      "Requirement already satisfied: scikit-learn in f:\\projects\\4th yr\\colloab\\analysis-of-israel-palestine-war-comments\\env\\lib\\site-packages (1.6.0)\n",
      "Requirement already satisfied: numpy>=1.19.5 in f:\\projects\\4th yr\\colloab\\analysis-of-israel-palestine-war-comments\\env\\lib\\site-packages (from scikit-learn) (2.2.1)\n",
      "Requirement already satisfied: scipy>=1.6.0 in f:\\projects\\4th yr\\colloab\\analysis-of-israel-palestine-war-comments\\env\\lib\\site-packages (from scikit-learn) (1.15.0)\n",
      "Requirement already satisfied: joblib>=1.2.0 in f:\\projects\\4th yr\\colloab\\analysis-of-israel-palestine-war-comments\\env\\lib\\site-packages (from scikit-learn) (1.4.2)\n",
      "Requirement already satisfied: threadpoolctl>=3.1.0 in f:\\projects\\4th yr\\colloab\\analysis-of-israel-palestine-war-comments\\env\\lib\\site-packages (from scikit-learn) (3.5.0)\n"
     ]
    }
   ],
   "source": [
    "!pip install scikit-learn"
   ]
  },
  {
   "cell_type": "code",
   "execution_count": 37,
   "id": "28253209-7e2e-400d-860d-cae91b86c6b0",
   "metadata": {},
   "outputs": [],
   "source": [
    "from sklearn.model_selection import train_test_split\n",
    "x_train, x_test, y_train, y_test = train_test_split(x, y, test_size=0.2)"
   ]
  },
  {
   "cell_type": "code",
   "execution_count": 38,
   "id": "07df651a-6bbd-41f4-a151-e06543ca2a55",
   "metadata": {},
   "outputs": [
    {
     "data": {
      "text/plain": [
       "(8000,)"
      ]
     },
     "execution_count": 38,
     "metadata": {},
     "output_type": "execute_result"
    }
   ],
   "source": [
    "x_train.shape"
   ]
  },
  {
   "cell_type": "code",
   "execution_count": 39,
   "id": "d078d72c-44e0-465a-b9ae-cdd7d7028757",
   "metadata": {},
   "outputs": [
    {
     "data": {
      "text/plain": [
       "(2001,)"
      ]
     },
     "execution_count": 39,
     "metadata": {},
     "output_type": "execute_result"
    }
   ],
   "source": [
    "x_test.shape"
   ]
  },
  {
   "cell_type": "code",
   "execution_count": 40,
   "id": "8d527de4-793d-4c12-bb86-3194d12db5fe",
   "metadata": {},
   "outputs": [
    {
     "data": {
      "text/plain": [
       "165     would lose support matter don’t hold democrat ...\n",
       "8598                                             kyri irv\n",
       "2594    poll found peopl gaza support suicid bomb targ...\n",
       "3427                             envi open season zionazi\n",
       "1382        pogrom mainli happen russia easter europ fact\n",
       "                              ...                        \n",
       "1559                                                thank\n",
       "4533                      ongo situat russian polic arriv\n",
       "4096    isra bot human blatantli openli deni histori p...\n",
       "4791                                   free palestin hama\n",
       "8269                        israel bomb kill isra kibbutz\n",
       "Name: self_text, Length: 8000, dtype: object"
      ]
     },
     "execution_count": 40,
     "metadata": {},
     "output_type": "execute_result"
    }
   ],
   "source": [
    "x_train"
   ]
  },
  {
   "cell_type": "code",
   "execution_count": 41,
   "id": "926e4dd5-4324-4cec-a8a2-d0ddd7570629",
   "metadata": {},
   "outputs": [
    {
     "data": {
      "text/plain": [
       "8029    1.0\n",
       "1050    1.0\n",
       "7569    1.0\n",
       "2962    1.0\n",
       "6980    1.0\n",
       "       ... \n",
       "6585    1.0\n",
       "2592    1.0\n",
       "2178    1.0\n",
       "2702    1.0\n",
       "7423    1.0\n",
       "Name: label, Length: 2001, dtype: float64"
      ]
     },
     "execution_count": 41,
     "metadata": {},
     "output_type": "execute_result"
    }
   ],
   "source": [
    "y_test"
   ]
  },
  {
   "cell_type": "markdown",
   "id": "5b162204-bc01-4ed8-a247-193392a5585e",
   "metadata": {},
   "source": [
    "## Vectorization"
   ]
  },
  {
   "cell_type": "code",
   "execution_count": 42,
   "id": "2138ca2c-41d5-41ce-8742-80dc62730ec1",
   "metadata": {},
   "outputs": [],
   "source": [
    "def vectorizer(ds, vocabulary):\n",
    "    vectorized_lst = []\n",
    "    \n",
    "    for sentence in ds:\n",
    "        sentence_lst = np.zeros(len(vocabulary))\n",
    "        \n",
    "        for i in range(len(vocabulary)):\n",
    "            if vocabulary[i] in sentence.split():\n",
    "                sentence_lst[i] = 1\n",
    "                \n",
    "        vectorized_lst.append(sentence_lst)\n",
    "        \n",
    "    vectorized_lst_new = np.asarray(vectorized_lst, dtype=np.float32)\n",
    "    \n",
    "    return vectorized_lst_new"
   ]
  },
  {
   "cell_type": "code",
   "execution_count": 43,
   "id": "8b8b193f-8275-4051-977e-b680cc5ae8e9",
   "metadata": {},
   "outputs": [],
   "source": [
    "vectorized_x_train = vectorizer(x_train, tokens)"
   ]
  },
  {
   "cell_type": "code",
   "execution_count": 44,
   "id": "2c2dac4c-657a-4efc-8378-226b30b1e265",
   "metadata": {},
   "outputs": [],
   "source": [
    "vectorized_x_test = vectorizer(x_test, tokens)"
   ]
  },
  {
   "cell_type": "code",
   "execution_count": 45,
   "id": "a181b2e4-be89-4204-9b5e-ae920c0bba4b",
   "metadata": {},
   "outputs": [
    {
     "data": {
      "text/plain": [
       "array([[0., 0., 0., ..., 0., 0., 0.],\n",
       "       [0., 0., 0., ..., 0., 0., 0.],\n",
       "       [0., 0., 0., ..., 0., 0., 0.],\n",
       "       ...,\n",
       "       [0., 0., 0., ..., 0., 0., 0.],\n",
       "       [0., 0., 0., ..., 0., 0., 0.],\n",
       "       [0., 0., 0., ..., 0., 0., 0.]], shape=(8000, 2337), dtype=float32)"
      ]
     },
     "execution_count": 45,
     "metadata": {},
     "output_type": "execute_result"
    }
   ],
   "source": [
    "vectorized_x_train"
   ]
  },
  {
   "cell_type": "code",
   "execution_count": 46,
   "id": "37e83c9e-6d73-4e1a-b3e6-8958229b96f8",
   "metadata": {},
   "outputs": [
    {
     "data": {
      "text/plain": [
       "array([[0., 0., 0., ..., 0., 0., 0.],\n",
       "       [0., 0., 0., ..., 0., 0., 0.],\n",
       "       [0., 0., 0., ..., 0., 0., 0.],\n",
       "       ...,\n",
       "       [0., 0., 0., ..., 0., 0., 0.],\n",
       "       [0., 0., 0., ..., 0., 0., 0.],\n",
       "       [0., 0., 0., ..., 0., 0., 0.]], shape=(2001, 2337), dtype=float32)"
      ]
     },
     "execution_count": 46,
     "metadata": {},
     "output_type": "execute_result"
    }
   ],
   "source": [
    "vectorized_x_test"
   ]
  },
  {
   "cell_type": "code",
   "execution_count": 47,
   "id": "a1416b12-27eb-40f9-9c3c-58e64a216720",
   "metadata": {},
   "outputs": [
    {
     "data": {
      "text/plain": [
       "165     1.0\n",
       "8598    1.0\n",
       "2594    1.0\n",
       "3427    1.0\n",
       "1382    1.0\n",
       "       ... \n",
       "1559    1.0\n",
       "4533    1.0\n",
       "4096    1.0\n",
       "4791    1.0\n",
       "8269    0.0\n",
       "Name: label, Length: 8000, dtype: float64"
      ]
     },
     "execution_count": 47,
     "metadata": {},
     "output_type": "execute_result"
    }
   ],
   "source": [
    "y_train"
   ]
  },
  {
   "cell_type": "code",
   "execution_count": 48,
   "id": "d56efc9c-9b38-4876-aa6a-54b5663d03a0",
   "metadata": {},
   "outputs": [
    {
     "data": {
      "text/plain": [
       "8029    1.0\n",
       "1050    1.0\n",
       "7569    1.0\n",
       "2962    1.0\n",
       "6980    1.0\n",
       "       ... \n",
       "6585    1.0\n",
       "2592    1.0\n",
       "2178    1.0\n",
       "2702    1.0\n",
       "7423    1.0\n",
       "Name: label, Length: 2001, dtype: float64"
      ]
     },
     "execution_count": 48,
     "metadata": {},
     "output_type": "execute_result"
    }
   ],
   "source": [
    "y_test"
   ]
  },
  {
   "cell_type": "markdown",
   "id": "ba799231-da91-4534-b959-32b86cce8b6c",
   "metadata": {},
   "source": [
    "### Handle imbalance dataset"
   ]
  },
  {
   "cell_type": "code",
   "execution_count": 49,
   "id": "8466de62-b166-4acf-b886-ccb42b2bf5c6",
   "metadata": {},
   "outputs": [
    {
     "name": "stdout",
     "output_type": "stream",
     "text": [
      "Requirement already satisfied: imbalanced-learn in f:\\projects\\4th yr\\colloab\\analysis-of-israel-palestine-war-comments\\env\\lib\\site-packages (0.13.0)\n",
      "Requirement already satisfied: numpy<3,>=1.24.3 in f:\\projects\\4th yr\\colloab\\analysis-of-israel-palestine-war-comments\\env\\lib\\site-packages (from imbalanced-learn) (2.2.1)\n",
      "Requirement already satisfied: scipy<2,>=1.10.1 in f:\\projects\\4th yr\\colloab\\analysis-of-israel-palestine-war-comments\\env\\lib\\site-packages (from imbalanced-learn) (1.15.0)\n",
      "Requirement already satisfied: scikit-learn<2,>=1.3.2 in f:\\projects\\4th yr\\colloab\\analysis-of-israel-palestine-war-comments\\env\\lib\\site-packages (from imbalanced-learn) (1.6.0)\n",
      "Requirement already satisfied: sklearn-compat<1,>=0.1 in f:\\projects\\4th yr\\colloab\\analysis-of-israel-palestine-war-comments\\env\\lib\\site-packages (from imbalanced-learn) (0.1.3)\n",
      "Requirement already satisfied: joblib<2,>=1.1.1 in f:\\projects\\4th yr\\colloab\\analysis-of-israel-palestine-war-comments\\env\\lib\\site-packages (from imbalanced-learn) (1.4.2)\n",
      "Requirement already satisfied: threadpoolctl<4,>=2.0.0 in f:\\projects\\4th yr\\colloab\\analysis-of-israel-palestine-war-comments\\env\\lib\\site-packages (from imbalanced-learn) (3.5.0)\n"
     ]
    }
   ],
   "source": [
    "!pip install imbalanced-learn"
   ]
  },
  {
   "cell_type": "code",
   "execution_count": 50,
   "id": "8629b569-aafe-43c9-844c-3ee1a2473fd0",
   "metadata": {},
   "outputs": [
    {
     "data": {
      "text/plain": [
       "np.int64(0)"
      ]
     },
     "execution_count": 50,
     "metadata": {},
     "output_type": "execute_result"
    }
   ],
   "source": [
    "non_nan_indices = ~np.isnan(y_train)\n",
    "\n",
    "# Filter both vectorized_x_train and y_train to remove rows where y_train has NaN values\n",
    "vectorized_x_train = vectorized_x_train[non_nan_indices]\n",
    "y_train = y_train[non_nan_indices]\n",
    "np.isnan(y_train).sum()"
   ]
  },
  {
   "cell_type": "code",
   "execution_count": 51,
   "id": "21b67edf-55e3-4c70-b7b4-6b12b7b88c40",
   "metadata": {},
   "outputs": [
    {
     "name": "stdout",
     "output_type": "stream",
     "text": [
      "0\n"
     ]
    }
   ],
   "source": [
    "# Remove rows where y_test has NaN values\n",
    "non_nan_indices_test = ~np.isnan(y_test)\n",
    "vectorized_x_test = vectorized_x_test[non_nan_indices_test]\n",
    "y_test = y_test[non_nan_indices_test]\n",
    "\n",
    "# Verify that all NaN values are removed\n",
    "print(np.isnan(y_test).sum())  # This should output 0"
   ]
  },
  {
   "cell_type": "code",
   "execution_count": 52,
   "id": "f7a640ac-97a7-48fc-b3ab-18830b0b6e9d",
   "metadata": {},
   "outputs": [
    {
     "name": "stdout",
     "output_type": "stream",
     "text": [
      "(14122, 2337) (14122,)\n"
     ]
    }
   ],
   "source": [
    "from imblearn.over_sampling import SMOTE\n",
    "smote = SMOTE()\n",
    "vectorized_x_train_smote, y_train_smote = smote.fit_resample(vectorized_x_train, y_train)\n",
    "print(vectorized_x_train_smote.shape, y_train_smote.shape)"
   ]
  },
  {
   "cell_type": "code",
   "execution_count": 53,
   "id": "019abdb8-d134-4067-a52b-4c5233cd8c85",
   "metadata": {},
   "outputs": [
    {
     "data": {
      "text/plain": [
       "label\n",
       "1.0    7061\n",
       "0.0    7061\n",
       "Name: count, dtype: int64"
      ]
     },
     "execution_count": 53,
     "metadata": {},
     "output_type": "execute_result"
    }
   ],
   "source": [
    "y_train_smote.value_counts()"
   ]
  },
  {
   "cell_type": "code",
   "execution_count": 54,
   "id": "829f71b5-3595-4ec7-af21-f69f382c1c67",
   "metadata": {},
   "outputs": [
    {
     "data": {
      "image/png": "[encoded data removed]",
      "text/plain": [
       "<Figure size 640x480 with 1 Axes>"
      ]
     },
     "metadata": {},
     "output_type": "display_data"
    }
   ],
   "source": [
    "plt.pie(np.array([y_train_smote.value_counts()[0], y_train_smote.value_counts()[1]]), labels=['Positive', 'Negative'])\n",
    "plt.show()"
   ]
  },
  {
   "cell_type": "code",
   "execution_count": 55,
   "id": "e784a3da-652d-4a37-8292-61da78df6f48",
   "metadata": {},
   "outputs": [
    {
     "data": {
      "text/plain": [
       "array([[0., 0., 0., ..., 0., 0., 0.],\n",
       "       [0., 0., 0., ..., 0., 0., 0.],\n",
       "       [0., 0., 0., ..., 0., 0., 0.],\n",
       "       ...,\n",
       "       [0., 0., 0., ..., 0., 0., 0.],\n",
       "       [0., 0., 0., ..., 0., 0., 0.],\n",
       "       [0., 0., 0., ..., 0., 0., 0.]], shape=(14122, 2337), dtype=float32)"
      ]
     },
     "execution_count": 55,
     "metadata": {},
     "output_type": "execute_result"
    }
   ],
   "source": [
    "vectorized_x_train_smote"
   ]
  },
  {
   "cell_type": "code",
   "execution_count": 56,
   "id": "2bfe8f01-48da-4db9-b014-748ed835ba43",
   "metadata": {},
   "outputs": [
    {
     "data": {
      "text/plain": [
       "0        1.0\n",
       "1        1.0\n",
       "2        1.0\n",
       "3        1.0\n",
       "4        1.0\n",
       "        ... \n",
       "14117    0.0\n",
       "14118    0.0\n",
       "14119    0.0\n",
       "14120    0.0\n",
       "14121    0.0\n",
       "Name: label, Length: 14122, dtype: float64"
      ]
     },
     "execution_count": 56,
     "metadata": {},
     "output_type": "execute_result"
    }
   ],
   "source": [
    "y_train_smote"
   ]
  },
  {
   "cell_type": "code",
   "execution_count": 57,
   "id": "969242f5-1d08-49d8-8c6e-7ae454f6d48d",
   "metadata": {},
   "outputs": [
    {
     "data": {
      "text/plain": [
       "array([[0., 0., 0., ..., 0., 0., 0.],\n",
       "       [0., 0., 0., ..., 0., 0., 0.],\n",
       "       [0., 0., 0., ..., 0., 0., 0.],\n",
       "       ...,\n",
       "       [0., 0., 0., ..., 0., 0., 0.],\n",
       "       [0., 0., 0., ..., 0., 0., 0.],\n",
       "       [0., 0., 0., ..., 0., 0., 0.]], shape=(2001, 2337), dtype=float32)"
      ]
     },
     "execution_count": 57,
     "metadata": {},
     "output_type": "execute_result"
    }
   ],
   "source": [
    "vectorized_x_test"
   ]
  },
  {
   "cell_type": "code",
   "execution_count": 58,
   "id": "021b86a5-d4e4-402a-b85d-619589b02924",
   "metadata": {},
   "outputs": [
    {
     "data": {
      "text/plain": [
       "8029    1.0\n",
       "1050    1.0\n",
       "7569    1.0\n",
       "2962    1.0\n",
       "6980    1.0\n",
       "       ... \n",
       "6585    1.0\n",
       "2592    1.0\n",
       "2178    1.0\n",
       "2702    1.0\n",
       "7423    1.0\n",
       "Name: label, Length: 2001, dtype: float64"
      ]
     },
     "execution_count": 58,
     "metadata": {},
     "output_type": "execute_result"
    }
   ],
   "source": [
    "y_test"
   ]
  },
  {
   "cell_type": "markdown",
   "id": "dd75aa76-817d-4591-b725-a14bde01816c",
   "metadata": {},
   "source": [
    "## Model training and evaluation"
   ]
  },
  {
   "cell_type": "code",
   "execution_count": 59,
   "id": "493b038e-c799-4bb6-857e-dcb489e2bc0f",
   "metadata": {},
   "outputs": [],
   "source": [
    "from sklearn.naive_bayes import MultinomialNB\n",
    "from sklearn.svm import SVC"
   ]
  },
  {
   "cell_type": "code",
   "execution_count": 60,
   "id": "74f63dc6-bacb-4375-9ffb-43392f3dfd7a",
   "metadata": {},
   "outputs": [],
   "source": [
    "from sklearn.metrics import accuracy_score, f1_score, precision_score, recall_score\n",
    "\n",
    "\n",
    "def training_scores(y_act, y_pred):\n",
    "    acc = round(accuracy_score(y_act, y_pred), 3)\n",
    "    pr = round(precision_score(y_act, y_pred), 3)\n",
    "    rec = round(recall_score(y_act, y_pred), 3)\n",
    "    f1 = round(f1_score(y_act, y_pred), 3)\n",
    "    print(f'Training Scores:\\n\\tAccuracy = {acc}\\n\\tPrecision = {pr}\\n\\tRecall = {rec}\\n\\tF1-Score = {f1}')\n",
    "    \n",
    "def validation_scores(y_act, y_pred):\n",
    "    acc = round(accuracy_score(y_act, y_pred), 3)\n",
    "    pr = round(precision_score(y_act, y_pred), 3)\n",
    "    rec = round(recall_score(y_act, y_pred), 3)\n",
    "    f1 = round(f1_score(y_act, y_pred), 3)\n",
    "    print(f'Testing Scores:\\n\\tAccuracy = {acc}\\n\\tPrecision = {pr}\\n\\tRecall = {rec}\\n\\tF1-Score = {f1}')"
   ]
  },
  {
   "cell_type": "markdown",
   "id": "8c905718-0ae0-4a31-b561-b6b65df08d8a",
   "metadata": {},
   "source": [
    "### Naive Bayes"
   ]
  },
  {
   "cell_type": "code",
   "execution_count": 61,
   "id": "7231a1f9-de30-4f58-a65c-e72e69be438d",
   "metadata": {},
   "outputs": [
    {
     "name": "stdout",
     "output_type": "stream",
     "text": [
      "Training Scores:\n",
      "\tAccuracy = 0.882\n",
      "\tPrecision = 0.964\n",
      "\tRecall = 0.794\n",
      "\tF1-Score = 0.871\n",
      "Testing Scores:\n",
      "\tAccuracy = 0.775\n",
      "\tPrecision = 0.974\n",
      "\tRecall = 0.762\n",
      "\tF1-Score = 0.855\n"
     ]
    }
   ],
   "source": [
    "mnb = MultinomialNB()\n",
    "mnb.fit(vectorized_x_train_smote, y_train_smote)\n",
    "\n",
    "y_train_pred = mnb.predict(vectorized_x_train_smote)\n",
    "\n",
    "y_test_pred = mnb.predict(vectorized_x_test)\n",
    "\n",
    "training_scores(y_train_smote, y_train_pred)\n",
    "\n",
    "validation_scores(y_test, y_test_pred)"
   ]
  },
  {
   "cell_type": "markdown",
   "id": "8e8c4001-900d-4fd6-88df-325c56b67769",
   "metadata": {},
   "source": [
    "### Support vector"
   ]
  },
  {
   "cell_type": "code",
   "execution_count": 62,
   "id": "a68ae339-9345-43ae-8447-9242db7e8b37",
   "metadata": {},
   "outputs": [
    {
     "name": "stdout",
     "output_type": "stream",
     "text": [
      "Training Scores:\n",
      "\tAccuracy = 0.984\n",
      "\tPrecision = 0.97\n",
      "\tRecall = 0.999\n",
      "\tF1-Score = 0.984\n",
      "Testing Scores:\n",
      "\tAccuracy = 0.949\n",
      "\tPrecision = 0.948\n",
      "\tRecall = 0.997\n",
      "\tF1-Score = 0.971\n"
     ]
    }
   ],
   "source": [
    "svm = SVC()\n",
    "\n",
    "svm.fit(vectorized_x_train_smote, y_train_smote)\n",
    "\n",
    "y_train_pred = svm.predict(vectorized_x_train_smote)\n",
    "\n",
    "y_test_pred = svm.predict(vectorized_x_test)\n",
    "\n",
    "training_scores(y_train_smote, y_train_pred)\n",
    "\n",
    "validation_scores(y_test, y_test_pred)"
   ]
  },
  {
   "cell_type": "code",
   "execution_count": 63,
   "id": "9ae3f12a-cc98-4634-9bfb-f8cb61841a91",
   "metadata": {},
   "outputs": [],
   "source": [
    "import pickle\n",
    "\n",
    "with open('../static/model/model.pickle_mnb', 'wb') as file:\n",
    "    pickle.dump(mnb, file)\n"
   ]
  },
  {
   "cell_type": "code",
   "execution_count": 64,
   "id": "3cb375a5-23e6-458c-87b8-40a1bf9dd7d5",
   "metadata": {},
   "outputs": [],
   "source": [
    "import pickle\n",
    "\n",
    "with open('../static/model/model.pickle_svm', 'wb') as file:\n",
    "    pickle.dump(svm, file)"
   ]
  },
  {
   "cell_type": "code",
   "execution_count": null,
   "id": "521259d4-005f-45c8-9a3e-9a226a122b78",
   "metadata": {},
   "outputs": [],
   "source": []
  }
 ],
 "metadata": {
  "kernelspec": {
   "display_name": "Python 3 (ipykernel)",
   "language": "python",
   "name": "python3"
  },
  "language_info": {
   "codemirror_mode": {
    "name": "ipython",
    "version": 3
   },
   "file_extension": ".py",
   "mimetype": "text/x-python",
   "name": "python",
   "nbconvert_exporter": "python",
   "pygments_lexer": "ipython3",
   "version": "3.11.1"
  }
 },
 "nbformat": 4,
 "nbformat_minor": 5
}
